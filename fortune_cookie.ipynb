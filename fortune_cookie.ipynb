{
  "nbformat": 4,
  "nbformat_minor": 0,
  "metadata": {
    "colab": {
      "provenance": [],
      "authorship_tag": "ABX9TyNxQnlCRp5+7zfl8Paggbcx",
      "include_colab_link": true
    },
    "kernelspec": {
      "name": "python3",
      "display_name": "Python 3"
    },
    "language_info": {
      "name": "python"
    }
  },
  "cells": [
    {
      "cell_type": "markdown",
      "metadata": {
        "id": "view-in-github",
        "colab_type": "text"
      },
      "source": [
        "<a href=\"https://colab.research.google.com/github/BVSidhartha/Sidhartha_rep/blob/main/fortune_cookie.ipynb\" target=\"_parent\"><img src=\"https://colab.research.google.com/assets/colab-badge.svg\" alt=\"Open In Colab\"/></a>"
      ]
    },
    {
      "cell_type": "code",
      "execution_count": null,
      "metadata": {
        "id": "aiA3kLZD7f-1"
      },
      "outputs": [],
      "source": [
        "lucky_number= random.randint(1,100)\n",
        "\n",
        "fortune_number= random.randint(1,3)\n",
        "\n",
        "fortune_text= \"\"\n",
        "\n",
        "if fortune_number== 1:\n",
        "  fortune_text= \"You will have a nice day\"\n",
        "if fortune_number== 2:\n",
        "  fortune_text= \"You will have a bad day\"\n",
        "if fortune_number== 3:\n",
        "  fortune_text= \"You will get married\"\n",
        "\n",
        "print(f\"Your lucky number is :{lucky_number} and your fortune is: {fortune_text}\")"
      ]
    }
  ]
}