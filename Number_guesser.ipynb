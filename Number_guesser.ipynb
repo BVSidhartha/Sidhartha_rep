{
  "nbformat": 4,
  "nbformat_minor": 0,
  "metadata": {
    "colab": {
      "provenance": [],
      "authorship_tag": "ABX9TyM3q6aG7ks0GADhR8sowyFX",
      "include_colab_link": true
    },
    "kernelspec": {
      "name": "python3",
      "display_name": "Python 3"
    },
    "language_info": {
      "name": "python"
    }
  },
  "cells": [
    {
      "cell_type": "markdown",
      "metadata": {
        "id": "view-in-github",
        "colab_type": "text"
      },
      "source": [
        "<a href=\"https://colab.research.google.com/github/BVSidhartha/Sidhartha_rep/blob/main/Number_guesser.ipynb\" target=\"_parent\"><img src=\"https://colab.research.google.com/assets/colab-badge.svg\" alt=\"Open In Colab\"/></a>"
      ]
    },
    {
      "cell_type": "code",
      "execution_count": 11,
      "metadata": {
        "colab": {
          "base_uri": "https://localhost:8080/"
        },
        "id": "qMyIDmgac7pv",
        "outputId": "616b29db-51d7-4ec1-a5f8-0fe81d746a7d"
      },
      "outputs": [
        {
          "output_type": "stream",
          "name": "stdout",
          "text": [
            "Hi! Welcome to the gussing game. Please guess the number between 1 and 100.\n",
            "picking a number\n",
            "guess a numnber: 15\n",
            "Wrong. You need to guess a higher number: 20\n",
            "Wrong. You need to guess a higher number: 30\n",
            "Wrong. You need to guess a higher number: 40\n",
            "Wrong. You need to guess a higher number: 60\n",
            "Wrong. You need to guess a lower number: 50\n",
            "Wrong. You need to guess a higher number: 53\n",
            "Wrong. You need to guess a lower number: 52\n",
            "congrats the correct numbert is 52. You took 8 guesses\n"
          ]
        }
      ],
      "source": [
        "import random\n",
        "import time\n",
        "\n",
        "print(\"Hi! Welcome to the gussing game. Please guess the number between 1 and 100.\")\n",
        "time.sleep(3)\n",
        "print(\"picking a number\")\n",
        "time.sleep(2)\n",
        "guess= int(input(\"guess a numnber: \"))\n",
        "correct_num= random.randint(1,100)\n",
        "guess_counter=1\n",
        "\n",
        "while guess!= correct_num:\n",
        "  time.sleep(2)\n",
        "  guess_counter+= 1\n",
        "  if guess< correct_num:\n",
        "    guess= int(input(\"Wrong. You need to guess a higher number: \"))\n",
        "  else:\n",
        "    guess= int(input(\"Wrong. You need to guess a lower number: \"))\n",
        "\n",
        "print(f\"congrats the correct numbert is {correct_num}. You took {guess_counter} guesses\")"
      ]
    }
  ]
}