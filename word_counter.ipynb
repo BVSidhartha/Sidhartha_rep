{
  "nbformat": 4,
  "nbformat_minor": 0,
  "metadata": {
    "colab": {
      "provenance": [],
      "authorship_tag": "ABX9TyNzKL1qLUe+2xgPYZECFJaJ",
      "include_colab_link": true
    },
    "kernelspec": {
      "name": "python3",
      "display_name": "Python 3"
    },
    "language_info": {
      "name": "python"
    }
  },
  "cells": [
    {
      "cell_type": "markdown",
      "metadata": {
        "id": "view-in-github",
        "colab_type": "text"
      },
      "source": [
        "<a href=\"https://colab.research.google.com/github/BVSidhartha/Sidhartha_rep/blob/main/word_counter.ipynb\" target=\"_parent\"><img src=\"https://colab.research.google.com/assets/colab-badge.svg\" alt=\"Open In Colab\"/></a>"
      ]
    },
    {
      "cell_type": "code",
      "execution_count": 4,
      "metadata": {
        "colab": {
          "base_uri": "https://localhost:8080/"
        },
        "id": "8eau1Ad7dJHo",
        "outputId": "c5c99f8b-e062-4cb2-9156-06c66dfcbcfa"
      },
      "outputs": [
        {
          "output_type": "stream",
          "name": "stdout",
          "text": [
            "180\n",
            "{'Janam': 1, 'janam': 2, 'Saath': 1, 'chalna': 1, 'yunhi': 2, 'Kasam': 1, 'tumhe': 1, 'kasam': 1, 'Aake': 1, 'milna': 1, 'yahin': 1, 'Ek': 1, 'jaan': 1, 'hai': 4, 'bhale': 1, 'Do': 1, 'badan': 1, 'ho': 9, 'juda': 1, 'Meri': 12, 'hoke': 5, 'hamesha': 5, 'hi': 7, 'rehna': 5, 'Kabhi': 5, 'na': 5, 'kehna': 5, 'alvida': 5, 'subah': 2, 'tumhi': 4, 'Aur': 2, 'shaam': 2, 'Tum': 4, 'dard': 2, 'aaraam': 2, 'duaaon': 2, 'se': 2, 'aati': 2, 'Bas': 3, 'yeh': 1, 'sada': 1, 'Aha': 1, 'ha': 1, 'ha..': 2, 'Aa': 1, 'Ha..': 1, 'Hoo..': 1, 'Teri': 1, 'baahon': 1, 'mein': 2, 'Hai': 2, 'mere': 1, 'dono': 1, 'jahaan': 1, 'Tu': 4, 'rahe': 1, 'jidhar': 1, 'jannat': 1, 'wahin': 1, 'Jal': 1, 'rahi': 1, 'agan': 1, 'jo': 1, 'ye': 3, 'do': 1, 'tarfa': 1, 'Na': 1, 'bujhe': 1, 'kabhi': 1, 'mannat': 1, 'yahi': 1, 'meri': 2, 'aarzu': 1, 'Main': 2, 'teri': 3, 'aashiqui': 1, 'shayari': 1, 'mausiqi': 1, 'Talab': 1, 'talab': 2, 'mujhe': 1, 'Nashon': 1, 'tu': 1, 'nasha': 1, 'Banke': 1, 'ghulna': 1, 'mohabbat': 1, 'ka': 1, 'karna': 1, 'haq': 1, 'adaa': 1, 'sadaa': 1, 'Alvida!!': 1} "
          ]
        }
      ],
      "source": [
        "text=\"\"\"\n",
        "Janam janam janam Saath chalna yunhi\n",
        "Kasam tumhe kasam Aake milna yahin\n",
        "Ek jaan hai bhale Do badan ho juda\n",
        "Meri hoke hamesha hi rehna\n",
        "Kabhi na kehna alvida\n",
        "\n",
        "\n",
        "Meri subah ho tumhi Aur tumhi shaam ho\n",
        "Tum dard ho Tum hi aaraam ho\n",
        "Meri duaaon se aati hai Bas yeh sada\n",
        "Meri hoke hamesha hi rehna\n",
        "Kabhi na kehna alvida\n",
        "\n",
        "Aha ha ha.. Aa ha.. Ha.. Hoo..\n",
        "\n",
        "\n",
        "Meri hoke hamesha hi rehna\n",
        "Kabhi na kehna alvida\n",
        "\n",
        "\n",
        "Teri baahon mein Hai mere dono jahaan\n",
        "Tu rahe jidhar Meri jannat wahin\n",
        "Jal rahi agan Hai jo ye do tarfa\n",
        "Na bujhe kabhi Meri mannat yahi\n",
        "Tu meri aarzu Main teri aashiqui\n",
        "Tu meri shayari Main teri mausiqi\n",
        "\n",
        "Talab talab talab Bas teri hai mujhe\n",
        "Nashon mein tu nasha Banke ghulna yunhi\n",
        "Meri mohabbat ka karna Tu haq ye adaa\n",
        "Meri hoke hamesha hi rehna\n",
        "Kabhi na kehna alvida\n",
        "\n",
        "\n",
        "Meri subah ho tumhi Aur tumhi shaam ho\n",
        "Tum dard ho Tum hi aaraam ho\n",
        "Meri duaaon se aati hai Bas ye sadaa\n",
        "Meri hoke hamesha hi rehna\n",
        "Kabhi na kehna alvida\n",
        "\n",
        "Alvida!!\n",
        "\"\"\"\n",
        "print(len(text.split()))\n",
        "\n",
        "word_count={}\n",
        "for word in text.split():\n",
        "    if word not in word_count:\n",
        "        word_count[word]=1\n",
        "    else:\n",
        "        word_count[word]+=1\n",
        "print(word_count, end=\" \")"
      ]
    }
  ]
}